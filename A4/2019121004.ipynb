{
 "cells": [
  {
   "cell_type": "markdown",
   "metadata": {},
   "source": [
    "Name: Avani Gupta <br>\n",
    "Roll: 2019121004"
   ]
  },
  {
   "cell_type": "code",
   "execution_count": 1,
   "metadata": {
    "colab": {},
    "colab_type": "code",
    "id": "0UL7xKBso8Pm"
   },
   "outputs": [],
   "source": [
    "from os import walk\n",
    "import pandas as pd\n",
    "import numpy as np\n",
    "import random\n",
    "import matplotlib.pyplot as plt\n",
    "import os\n",
    "\n",
    "import torch.nn as nn\n",
    "import torch.nn.functional as F\n",
    "import torch\n",
    "import torchvision\n",
    "import torchvision.transforms as transforms\n",
    "\n",
    "\n",
    "from torch.utils.data import Dataset, DataLoader, random_split\n",
    "import torch.optim as optim\n",
    "\n",
    "import glob\n"
   ]
  },
  {
   "cell_type": "code",
   "execution_count": 2,
   "metadata": {},
   "outputs": [],
   "source": [
    "dataset_dir = 'images_evaluation/'\n"
   ]
  },
  {
   "cell_type": "code",
   "execution_count": 3,
   "metadata": {},
   "outputs": [],
   "source": [
    "classes = os.listdir(dataset_dir)"
   ]
  },
  {
   "cell_type": "code",
   "execution_count": 4,
   "metadata": {},
   "outputs": [],
   "source": [
    "categories = {}\n",
    "for c in classes:\n",
    "    class_chars = os.listdir(os.path.join(dataset_dir,c))\n",
    "    \n",
    "    categories[c] = class_chars\n",
    "    "
   ]
  },
  {
   "cell_type": "code",
   "execution_count": 5,
   "metadata": {},
   "outputs": [],
   "source": [
    "class SiameseData(Dataset):\n",
    "    def __init__(self,categories_dic, dataset_dir, num_imgs):\n",
    "        self.categories_dic = categories_dic\n",
    "        self.categories_lis = list(categories_dic.keys())\n",
    "        self.dataset_dir = dataset_dir\n",
    "        self.num_imgs = num_imgs\n",
    "        self.transform =  transforms.Compose([transforms.ToTensor()])\n",
    "        \n",
    "    def __getitem__(self,idx):\n",
    "        if idx %2==0: #same category for both imgs\n",
    "            label = 1.0\n",
    "            cate = random.choice(self.categories_lis)\n",
    "            char = random.choice(self.categories_dic[cate])\n",
    "            imgs_lis = os.listdir(os.path.join(os.path.join(dataset_dir, cate),char))\n",
    "            img_path = os.path.join(os.path.join(dataset_dir, cate),char)\n",
    "            img1 , img2 = plt.imread(os.path.join(img_path,random.choice(imgs_lis))), plt.imread(os.path.join(img_path,random.choice(imgs_lis)))\n",
    "        \n",
    "        else: # diff category\n",
    "            label = 0.0\n",
    "            categories_lis = self.categories_lis.copy()\n",
    "            cate = random.choice(self.categories_lis)\n",
    "            char = random.choice(self.categories_dic[cate])\n",
    "            imgs_lis = os.listdir(os.path.join(os.path.join(dataset_dir, cate),char))\n",
    "            \n",
    "            img_path = os.path.join(os.path.join(dataset_dir, cate),char)\n",
    "            img1 = plt.imread(os.path.join(img_path,random.choice(imgs_lis)))\n",
    "            \n",
    "            categories_lis.remove(cate) #so that random.choice doesnt select same category again\n",
    "            # get img 2 from different category\n",
    "            cate = random.choice(categories_lis)\n",
    "            char = random.choice(self.categories_dic[cate])\n",
    "            imgs_lis = os.listdir(os.path.join(os.path.join(dataset_dir, cate),char))\n",
    "            img_path = os.path.join(os.path.join(dataset_dir, cate),char)\n",
    "            img2 = plt.imread(os.path.join(img_path,random.choice(imgs_lis)))\n",
    "          \n",
    "        return self.transform(img1), self.transform(img2), torch.tensor([label])\n",
    "            \n",
    "    def __len__(self):\n",
    "        return self.num_imgs\n",
    "            \n",
    "\n",
    "\n",
    "train_set =  SiameseData(categories,dataset_dir,5000)  \n",
    "train_loader = torch.utils.data.DataLoader(train_set, batch_size=128, num_workers=8)\n",
    "\n",
    "val_set =  SiameseData(categories,dataset_dir,500)         \n",
    "val_loader = torch.utils.data.DataLoader(val_set, batch_size=1, num_workers=1, shuffle=True)\n"
   ]
  },
  {
   "cell_type": "code",
   "execution_count": 6,
   "metadata": {
    "colab": {},
    "colab_type": "code",
    "id": "BPdWGiEeo8P9"
   },
   "outputs": [],
   "source": [
    "class Net(nn.Module):\n",
    "    '''\n",
    "    I followed acrhitecture given in paper by Koch et al.\n",
    "    '''\n",
    "    def __init__(self):\n",
    "        super(Net, self).__init__()\n",
    "        self.convs = nn.Sequential(\n",
    "                        nn.Conv2d(1, 64, 10),\n",
    "                        nn.BatchNorm2d(64),\n",
    "                        nn.ReLU(),\n",
    "                        nn.MaxPool2d(2,stride=2),\n",
    "\n",
    "                        nn.Conv2d(64, 128, 7),\n",
    "                        nn.BatchNorm2d(128),\n",
    "                        nn.ReLU(),\n",
    "                        nn.MaxPool2d(2,stride=2),\n",
    "\n",
    "                        nn.Conv2d(128, 128, 4),\n",
    "                        nn.BatchNorm2d(128),\n",
    "                        nn.ReLU(),\n",
    "                        nn.MaxPool2d(2,stride=2),\n",
    "\n",
    "                        nn.Conv2d(128, 256, 4),\n",
    "                        nn.BatchNorm2d(256),\n",
    "                        nn.ReLU(),     \n",
    "            )\n",
    "        self.sigmoid = nn.Sigmoid()\n",
    "        self.fc1 = nn.Linear(256 * 6 * 6, 4096)\n",
    "        self.fc2 = nn.Linear(4096, 1)\n",
    "        \n",
    "        \n",
    "    def forward(self, x1, x2):\n",
    "        x1 = self.convs(x1)\n",
    "        x1 = x1.view(-1, 256 * 6 * 6)\n",
    "        x1 = self.sigmoid(self.fc1(x1))\n",
    "        \n",
    "        x2 = self.convs(x2)\n",
    "        x2 = x2.view(-1, 256 * 6 * 6)\n",
    "        x2 = self.sigmoid(self.fc1(x2))\n",
    "\n",
    "        x = torch.abs(x1 - x2)\n",
    "        x = self.fc2(x)\n",
    "        return x"
   ]
  },
  {
   "cell_type": "code",
   "execution_count": 7,
   "metadata": {
    "colab": {
     "base_uri": "https://localhost:8080/",
     "height": 345
    },
    "colab_type": "code",
    "id": "YNc_GPvDo8QA",
    "outputId": "f95be039-00f1-4d66-dc4d-77e4ba315066"
   },
   "outputs": [
    {
     "data": {
      "text/plain": [
       "Net(\n",
       "  (convs): Sequential(\n",
       "    (0): Conv2d(1, 64, kernel_size=(10, 10), stride=(1, 1))\n",
       "    (1): BatchNorm2d(64, eps=1e-05, momentum=0.1, affine=True, track_running_stats=True)\n",
       "    (2): ReLU()\n",
       "    (3): MaxPool2d(kernel_size=2, stride=2, padding=0, dilation=1, ceil_mode=False)\n",
       "    (4): Conv2d(64, 128, kernel_size=(7, 7), stride=(1, 1))\n",
       "    (5): BatchNorm2d(128, eps=1e-05, momentum=0.1, affine=True, track_running_stats=True)\n",
       "    (6): ReLU()\n",
       "    (7): MaxPool2d(kernel_size=2, stride=2, padding=0, dilation=1, ceil_mode=False)\n",
       "    (8): Conv2d(128, 128, kernel_size=(4, 4), stride=(1, 1))\n",
       "    (9): BatchNorm2d(128, eps=1e-05, momentum=0.1, affine=True, track_running_stats=True)\n",
       "    (10): ReLU()\n",
       "    (11): MaxPool2d(kernel_size=2, stride=2, padding=0, dilation=1, ceil_mode=False)\n",
       "    (12): Conv2d(128, 256, kernel_size=(4, 4), stride=(1, 1))\n",
       "    (13): BatchNorm2d(256, eps=1e-05, momentum=0.1, affine=True, track_running_stats=True)\n",
       "    (14): ReLU()\n",
       "  )\n",
       "  (sigmoid): Sigmoid()\n",
       "  (fc1): Linear(in_features=9216, out_features=4096, bias=True)\n",
       "  (fc2): Linear(in_features=4096, out_features=1, bias=True)\n",
       ")"
      ]
     },
     "execution_count": 7,
     "metadata": {},
     "output_type": "execute_result"
    }
   ],
   "source": [
    "device = torch.device('cuda' if torch.cuda.is_available() else 'cpu')\n",
    "\n",
    "model = Net()\n",
    "model = model.to(device)\n",
    "model"
   ]
  },
  {
   "cell_type": "markdown",
   "metadata": {},
   "source": [
    "## Training using Siamese network"
   ]
  },
  {
   "cell_type": "code",
   "execution_count": 8,
   "metadata": {},
   "outputs": [
    {
     "name": "stdout",
     "output_type": "stream",
     "text": [
      "Epoch 1 | train loss: 0.5438430070877075 | val loss: 0.4213331569125876\n",
      "Epoch 2 | train loss: 0.45336746945977213 | val loss: 0.4089429953298531\n",
      "Epoch 3 | train loss: 0.3820145957171917 | val loss: 0.3579189153526095\n",
      "Epoch 4 | train loss: 0.3592333659529686 | val loss: 0.32324041921060415\n",
      "Epoch 5 | train loss: 0.32962066791951655 | val loss: 0.2770953490920947\n",
      "Epoch 6 | train loss: 0.33772982470691204 | val loss: 0.34273145249571096\n",
      "Epoch 7 | train loss: 0.32099839076399805 | val loss: 0.32106073555673353\n",
      "Epoch 8 | train loss: 0.31246535405516623 | val loss: 0.2616293653585635\n",
      "Epoch 9 | train loss: 0.298033545166254 | val loss: 0.29953998286102435\n",
      "Epoch 10 | train loss: 0.3018169550225139 | val loss: 0.25932341381104196\n",
      "Epoch 11 | train loss: 0.2731388498097658 | val loss: 0.26000241880117575\n",
      "Epoch 12 | train loss: 0.2644831039011478 | val loss: 0.21381356082808747\n",
      "Epoch 13 | train loss: 0.2630589008331299 | val loss: 0.24915187626468469\n",
      "Epoch 14 | train loss: 0.24907676540315152 | val loss: 0.24216725257759752\n",
      "Epoch 15 | train loss: 0.24421281032264233 | val loss: 0.19148584704421956\n",
      "Epoch 16 | train loss: 0.24047008641064166 | val loss: 0.22240261252877053\n",
      "Epoch 17 | train loss: 0.26083972714841364 | val loss: 0.2576995552972039\n",
      "Epoch 18 | train loss: 0.2368041004985571 | val loss: 0.23453088825607574\n",
      "Epoch 19 | train loss: 0.23777845948934556 | val loss: 0.22028926589467254\n",
      "Epoch 20 | train loss: 0.2456092420965433 | val loss: 0.18677400669523375\n",
      "Epoch 21 | train loss: 0.245598965883255 | val loss: 0.22581284077378586\n",
      "Epoch 22 | train loss: 0.22187292836606504 | val loss: 0.2777950844258162\n",
      "Epoch 23 | train loss: 0.2217991452664137 | val loss: 0.21937962474557365\n",
      "Epoch 24 | train loss: 0.23209692519158126 | val loss: 0.21502087798269348\n",
      "Epoch 25 | train loss: 0.20934594999998807 | val loss: 0.1750814779879247\n",
      "Epoch 26 | train loss: 0.21208490412682296 | val loss: 0.16193015252861687\n",
      "Epoch 27 | train loss: 0.20596529580652714 | val loss: 0.1642440056025514\n",
      "Epoch 28 | train loss: 0.1989623997360468 | val loss: 0.15312153155520297\n",
      "Epoch 29 | train loss: 0.21225416138768197 | val loss: 0.1921116646143903\n",
      "Epoch 30 | train loss: 0.19259188324213028 | val loss: 0.16421162629526906\n",
      "Epoch 31 | train loss: 0.19945104494690896 | val loss: 0.19994362657105058\n",
      "Epoch 32 | train loss: 0.1976664884015918 | val loss: 0.17399886923460917\n",
      "Epoch 33 | train loss: 0.18541972674429416 | val loss: 0.21120938173245576\n",
      "Epoch 34 | train loss: 0.18514087237417698 | val loss: 0.18895807192657024\n",
      "early stopping at epoch 33\n",
      "Finished Training\n"
     ]
    }
   ],
   "source": [
    "num_epochs = 50\n",
    "checkpoint_freq = 25\n",
    "\n",
    "checkpoint_dir = 'checkpoints/'\n",
    "if not os.path.exists(checkpoint_dir):\n",
    "    os.makedirs(checkpoint_dir)\n",
    "\n",
    "optimizer = optim.Adam(model.parameters(), lr = 0.0006)\n",
    "criterion = nn.BCEWithLogitsLoss()\n",
    "\n",
    "val_loss_min = 1e10\n",
    "val_ep_min = -1\n",
    "train_loss_lis = []\n",
    "val_loss_lis = []\n",
    "\n",
    "for epoch in range(num_epochs):\n",
    "    running_loss = 0.0\n",
    "    model.train()\n",
    "    for img1, img2, labels in train_loader:\n",
    "        preds = model(img1.to(device), img2.to(device))\n",
    "        loss = criterion(preds, labels.to(device))\n",
    "\n",
    "        optimizer.zero_grad()\n",
    "        loss.backward()\n",
    "        optimizer.step()\n",
    "        running_loss += loss.item()\n",
    "        \n",
    "    \n",
    "        \n",
    "    val_running_loss = 0.0\n",
    "    with torch.no_grad():\n",
    "        model.eval()\n",
    "        for img1, img2, labels in val_loader:\n",
    "            preds = model(img1.to(device), img2.to(device))\n",
    "            loss = criterion(preds, labels.to(device))\n",
    "            val_running_loss += loss.item()\n",
    "            \n",
    "    train_loss = running_loss / len(train_loader)  \n",
    "    train_loss_lis.append(train_loss)\n",
    "    \n",
    "    val_loss = val_running_loss / len(val_loader)\n",
    "    val_loss_lis.append(val_loss)\n",
    "    \n",
    "    print(f\"Epoch {epoch+1} | train loss: {train_loss} | val loss: {val_loss}\")\n",
    "\n",
    "    if val_loss < val_loss_min:\n",
    "        val_ep_min, val_loss_min = epoch, val_loss\n",
    "        torch.save(model.state_dict(), os.path.join(checkpoint_dir, \"siamese_best.ckpt\"))\n",
    "            \n",
    "    if epoch % checkpoint_freq == 0:\n",
    "        torch.save(\n",
    "                model.state_dict(),\n",
    "                os.path.join(checkpoint_dir,f\"checkpoint_{epoch}.ckpt\")\n",
    "            )\n",
    "        \n",
    "\n",
    "\n",
    "    if val_loss > val_loss_min and epoch - val_ep_min > 5: \n",
    "        print(\"early stopping at epoch\",epoch)\n",
    "        break\n",
    "    \n",
    "\n",
    "print(\"Finished Training\")  \n",
    "    \n",
    "    \n",
    "    \n",
    "    \n",
    "    "
   ]
  },
  {
   "cell_type": "code",
   "execution_count": 15,
   "metadata": {},
   "outputs": [
    {
     "data": {
      "text/plain": [
       "Text(0, 0.5, 'loss')"
      ]
     },
     "execution_count": 15,
     "metadata": {},
     "output_type": "execute_result"
    },
    {
     "data": {
      "image/png": "[encoded data removed]",
      "text/plain": [
       "<Figure size 432x288 with 1 Axes>"
      ]
     },
     "metadata": {
      "needs_background": "light"
     },
     "output_type": "display_data"
    },
    {
     "data": {
      "image/png": "[encoded data removed]",
      "text/plain": [
       "<Figure size 432x288 with 1 Axes>"
      ]
     },
     "metadata": {
      "needs_background": "light"
     },
     "output_type": "display_data"
    }
   ],
   "source": [
    "plt.title(\"train loss\")\n",
    "plt.plot(train_loss_lis)\n",
    "plt.xlabel(\"epochs\")\n",
    "plt.ylabel(\"loss\")\n",
    "plt.figure()\n",
    "\n",
    "plt.title(\"val loss\")\n",
    "plt.plot(val_loss_lis)\n",
    "plt.xlabel(\"epochs\")\n",
    "plt.ylabel(\"loss\")"
   ]
  },
  {
   "cell_type": "code",
   "execution_count": 10,
   "metadata": {
    "colab": {},
    "colab_type": "code",
    "id": "pXDsPIkvIpQh"
   },
   "outputs": [
    {
     "data": {
      "text/plain": [
       "Net(\n",
       "  (convs): Sequential(\n",
       "    (0): Conv2d(1, 64, kernel_size=(10, 10), stride=(1, 1))\n",
       "    (1): BatchNorm2d(64, eps=1e-05, momentum=0.1, affine=True, track_running_stats=True)\n",
       "    (2): ReLU()\n",
       "    (3): MaxPool2d(kernel_size=2, stride=2, padding=0, dilation=1, ceil_mode=False)\n",
       "    (4): Conv2d(64, 128, kernel_size=(7, 7), stride=(1, 1))\n",
       "    (5): BatchNorm2d(128, eps=1e-05, momentum=0.1, affine=True, track_running_stats=True)\n",
       "    (6): ReLU()\n",
       "    (7): MaxPool2d(kernel_size=2, stride=2, padding=0, dilation=1, ceil_mode=False)\n",
       "    (8): Conv2d(128, 128, kernel_size=(4, 4), stride=(1, 1))\n",
       "    (9): BatchNorm2d(128, eps=1e-05, momentum=0.1, affine=True, track_running_stats=True)\n",
       "    (10): ReLU()\n",
       "    (11): MaxPool2d(kernel_size=2, stride=2, padding=0, dilation=1, ceil_mode=False)\n",
       "    (12): Conv2d(128, 256, kernel_size=(4, 4), stride=(1, 1))\n",
       "    (13): BatchNorm2d(256, eps=1e-05, momentum=0.1, affine=True, track_running_stats=True)\n",
       "    (14): ReLU()\n",
       "  )\n",
       "  (sigmoid): Sigmoid()\n",
       "  (fc1): Linear(in_features=9216, out_features=4096, bias=True)\n",
       "  (fc2): Linear(in_features=4096, out_features=1, bias=True)\n",
       ")"
      ]
     },
     "execution_count": 10,
     "metadata": {},
     "output_type": "execute_result"
    }
   ],
   "source": [
    "# loading saved model\n",
    "model = Net().to(device)\n",
    "PATH = 'checkpoints/siamese_best.ckpt'\n",
    "model.load_state_dict(torch.load(PATH))\n",
    "model.eval()\n"
   ]
  },
  {
   "cell_type": "markdown",
   "metadata": {},
   "source": [
    "## Testing using N-way one shot learning\n",
    "In an N-way one shot learning, we compare a test image with N different images and select that image which has highest similarity with the test image as the prediction"
   ]
  },
  {
   "cell_type": "code",
   "execution_count": 12,
   "metadata": {
    "colab": {},
    "colab_type": "code",
    "id": "fMqRspJ9UEbW"
   },
   "outputs": [],
   "source": [
    "class NWayOneShot(Dataset):\n",
    "    def __init__(self, categories_dic, dataset_dir, num_imgs, numWay):\n",
    "        self.categories_dic = categories_dic\n",
    "        self.categories_lis = list(categories_dic.keys())\n",
    "        self.dataset_dir = dataset_dir\n",
    "        self.num_imgs = num_imgs\n",
    "        self.transform =  transforms.Compose([transforms.ToTensor()])\n",
    "        self.numWay = numWay\n",
    "        \n",
    "    \n",
    "    def __getitem__(self, idx):\n",
    "        cate = random.choice(self.categories_lis)\n",
    "        char = random.choice(self.categories_dic[cate])\n",
    "        imgs_lis = os.listdir(os.path.join(os.path.join(dataset_dir, cate),char))\n",
    "        img_path = os.path.join(os.path.join(dataset_dir, cate),char)\n",
    "        main_img = self.transform(plt.imread(os.path.join(img_path,random.choice(imgs_lis))))\n",
    "        \n",
    "        \n",
    "        same_class_img = self.transform(plt.imread(os.path.join(img_path,random.choice(imgs_lis))))\n",
    "        label = random.choice(np.arange(self.numWay))\n",
    "        categories_lis = self.categories_lis.copy()\n",
    "        categories_lis.remove(cate) #so that random.choice doesnt select same category again\n",
    "        imgs = []\n",
    "        for i in range(self.numWay):\n",
    "            cate = random.choice(categories_lis)\n",
    "            char = random.choice(self.categories_dic[cate])\n",
    "            imgs_lis = os.listdir(os.path.join(os.path.join(dataset_dir, cate),char))\n",
    "            img_path = os.path.join(os.path.join(dataset_dir, cate),char)\n",
    "            img = self.transform(plt.imread(os.path.join(img_path,random.choice(imgs_lis))))\n",
    "            imgs.append(img)\n",
    "        imgs[label] = same_class_img\n",
    "     \n",
    "        return main_img, imgs, torch.tensor([label],dtype=int)\n",
    "    \n",
    "    def __len__(self):\n",
    "        return self.num_imgs\n",
    "\n"
   ]
  },
  {
   "cell_type": "code",
   "execution_count": 16,
   "metadata": {
    "colab": {},
    "colab_type": "code",
    "id": "9xPtPhnTkplG"
   },
   "outputs": [
    {
     "name": "stdout",
     "output_type": "stream",
     "text": [
      "Accuracy on n way: 0.9452\n"
     ]
    }
   ],
   "source": [
    "testSize = 5000\n",
    "numWay = 4\n",
    "test_set = NWayOneShot(categories, dataset_dir, testSize,numWay=4) \n",
    "test_loader = torch.utils.data.DataLoader(test_set, batch_size = 1, num_workers = 2)\n",
    "# evaluate \n",
    "correct = 0\n",
    "count = 0\n",
    "for main_img, imgs, label in test_loader:\n",
    "    similarities = []\n",
    "    for i, img_test in enumerate(imgs):\n",
    "        #model gives output(similarity) for each img, the img_test which has highest predicted similarity is chosen\n",
    "        similarities.append(model(main_img.to(device),  img_test.to(device)).item())\n",
    "    \n",
    "    pred = np.argmax(similarities)\n",
    "            \n",
    "    if pred == label.item():\n",
    "        correct = correct+1\n",
    "    count += 1\n",
    "\n",
    "print('Accuracy on n way: {}'.format(correct/count))\n",
    "\n"
   ]
  },
  {
   "cell_type": "markdown",
   "metadata": {},
   "source": [
    "Convergence at 33rd epoch, accuracy on 4-way testing 0.94, training and val loss graphs are shown above in notebook.\n",
    "\n",
    "\n",
    "\n",
    "\n",
    "Architecture:\n",
    "![alt text](archi.png \"Title\")\n",
    "\n",
    "The double convolutional design that was previously revealed is the most important aspect of the Siamese Network. As seen in Figure, the first convolutional architecture design is from Koch et al publication \"Siamese Neural Networks for One-shot Image Recognition.\" \n",
    "Note that after flattening, the absolute differences between the two convolutional branches(rather than simply one image's input) are sent into the fully-connected layer.\n"
   ]
  }
 ],
 "metadata": {
  "accelerator": "GPU",
  "colab": {
   "collapsed_sections": [],
   "machine_shape": "hm",
   "name": "siamese.ipynb",
   "provenance": []
  },
  "kernelspec": {
   "display_name": "Python 3 (ipykernel)",
   "language": "python",
   "name": "python3"
  },
  "language_info": {
   "codemirror_mode": {
    "name": "ipython",
    "version": 3
   },
   "file_extension": ".py",
   "mimetype": "text/x-python",
   "name": "python",
   "nbconvert_exporter": "python",
   "pygments_lexer": "ipython3",
   "version": "3.7.10"
  }
 },
 "nbformat": 4,
 "nbformat_minor": 4
}
