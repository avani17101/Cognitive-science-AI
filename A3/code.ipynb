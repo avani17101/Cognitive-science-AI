{
 "cells": [
  {
   "cell_type": "markdown",
   "metadata": {},
   "source": [
    "Name: Avani Gupta <br>\n",
    "Roll: 2019121004"
   ]
  },
  {
   "cell_type": "code",
   "execution_count": 1,
   "metadata": {
    "id": "7sFWFDSCBuvh"
   },
   "outputs": [],
   "source": [
    "import numpy as np\n",
    "import os\n",
    "import matplotlib.pyplot as plt\n",
    "from sentence_transformers import SentenceTransformer\n",
    "from sklearn.metrics.pairwise import cosine_distances\n",
    "from sklearn import datasets, linear_model\n",
    "from sklearn.model_selection import cross_val_score\n",
    "from sklearn.metrics import fbeta_score, make_scorer\n",
    "from tqdm import tqdm\n",
    "os.environ['TOKENIZERS_PARALLELISM'] = '0'\n",
    "from scipy import stats"
   ]
  },
  {
   "cell_type": "code",
   "execution_count": 2,
   "metadata": {},
   "outputs": [],
   "source": [
    "def metric_2v2(y_true, y_pred):\n",
    "    cs_dist = cosine_distances(y_true, y_pred)\n",
    "    value = 0\n",
    "    for i in range(0, len(y_true)-1):\n",
    "        for j in range(i+1, len(y_true)):\n",
    "            a = cs_dist[i, i]+cs_dist[j,j]\n",
    "            b = cs_dist[i,j]+cs_dist[j,i]\n",
    "            if (a<b):\n",
    "                value += 1  \n",
    "    value /= (len(y_true)*(len(y_true)-1)/2)\n",
    "    return value\n",
    "\n",
    "def metric_pc(y_true, y_pred):\n",
    "    value = 0\n",
    "    for y_t, y_p in zip(y_true, y_pred):\n",
    "        value += np.corrcoef(y_t, y_p)[0][1]\n",
    "    value/=len(y_true)\n",
    "    return value\n"
   ]
  },
  {
   "cell_type": "code",
   "execution_count": 3,
   "metadata": {},
   "outputs": [],
   "source": [
    "data_path  = 'dataset/'\n",
    "with open(data_path+'stimuli.txt','r') as f:\n",
    "    stimuli = f.readlines()\n",
    "\n",
    "for i in range(len(stimuli)):\n",
    "    stimuli[i] = stimuli[i].strip()\n",
    "    \n",
    "model = SentenceTransformer('sentence-transformers/stsb-bert-large')\n",
    "stimuli_encoded = model.encode(stimuli)"
   ]
  },
  {
   "cell_type": "code",
   "execution_count": 6,
   "metadata": {},
   "outputs": [],
   "source": [
    "def encode_decode(num,scorer_type,cv=3,reg_type='ridge'):\n",
    "    '''\n",
    "    num: dataset subject num\n",
    "    score_type: metric - 2v2 or pc\n",
    "    k: cross-validation k\n",
    "    '''\n",
    "    \n",
    "    datasub = np.load(data_path+\"subj\"+str(num)+\".npy\", allow_pickle=True).item()\n",
    "    \n",
    "    if scorer_type=='2v2':\n",
    "        scorer = make_scorer(metric_2v2, greater_is_better=True) \n",
    "    elif scorer_type=='pc':\n",
    "        scorer = make_scorer(metric_pc, greater_is_better=True) \n",
    "    if reg_type=='lasso':   \n",
    "        regressor = linear_model.Lasso()\n",
    "    elif reg_type=='ridge':\n",
    "        regressor = linear_model.Ridge()\n",
    "        \n",
    "    score_dic_d = {}\n",
    "    #decoder\n",
    "    y = stimuli_encoded\n",
    "    for k in tqdm(datasub):\n",
    "        X = datasub[k]\n",
    "        scores = cross_val_score(regressor , X, y, cv=cv,scoring=scorer,n_jobs=10)\n",
    "        score_dic_d[k] = np.array(scores).mean()\n",
    "        \n",
    "\n",
    "    #encoder\n",
    "    score_dic_e = {}\n",
    "    if reg_type=='lasso':   \n",
    "        regressor = linear_model.Lasso()\n",
    "    elif reg_type=='ridge':\n",
    "        regressor = linear_model.Ridge()\n",
    "        \n",
    "    for k in tqdm(datasub):\n",
    "        X = datasub[k]\n",
    "        scores = cross_val_score(regressor, y, X, cv=cv,scoring=scorer,n_jobs=10)\n",
    "        score_dic_e[k] = np.array(scores).mean()\n",
    "    \n",
    "    return score_dic_d, score_dic_e\n",
    "      \n"
   ]
  },
  {
   "cell_type": "code",
   "execution_count": 7,
   "metadata": {},
   "outputs": [
    {
     "name": "stderr",
     "output_type": "stream",
     "text": [
      "100%|███████████████████████████████████████████████████████████████████| 4/4 [00:10<00:00,  2.63s/it]\n",
      "100%|███████████████████████████████████████████████████████████████████| 4/4 [00:05<00:00,  1.43s/it]\n"
     ]
    }
   ],
   "source": [
    "score_dic_d, score_dic_e = encode_decode(1,'2v2')"
   ]
  },
  {
   "cell_type": "code",
   "execution_count": 8,
   "metadata": {},
   "outputs": [
    {
     "name": "stderr",
     "output_type": "stream",
     "text": [
      "100%|███████████████████████████████████████████████████████████████████| 4/4 [00:05<00:00,  1.47s/it]\n",
      "100%|███████████████████████████████████████████████████████████████████| 4/4 [00:05<00:00,  1.27s/it]\n"
     ]
    }
   ],
   "source": [
    "score_dic_d2, score_dic_e2 = encode_decode(2,'2v2')"
   ]
  },
  {
   "cell_type": "code",
   "execution_count": 9,
   "metadata": {},
   "outputs": [
    {
     "name": "stderr",
     "output_type": "stream",
     "text": [
      "100%|███████████████████████████████████████████████████████████████████| 4/4 [00:06<00:00,  1.58s/it]\n",
      "100%|███████████████████████████████████████████████████████████████████| 4/4 [00:05<00:00,  1.27s/it]\n"
     ]
    }
   ],
   "source": [
    "score_dic_d_p, score_dic_e_p = encode_decode(1,'pc')"
   ]
  },
  {
   "cell_type": "code",
   "execution_count": 10,
   "metadata": {},
   "outputs": [
    {
     "name": "stderr",
     "output_type": "stream",
     "text": [
      "100%|███████████████████████████████████████████████████████████████████| 4/4 [00:06<00:00,  1.50s/it]\n",
      "100%|███████████████████████████████████████████████████████████████████| 4/4 [00:04<00:00,  1.18s/it]\n"
     ]
    }
   ],
   "source": [
    "score_dic_d2_p, score_dic_e2_p = encode_decode(2,'pc')"
   ]
  },
  {
   "cell_type": "code",
   "execution_count": 25,
   "metadata": {},
   "outputs": [
    {
     "data": {
      "text/plain": [
       "Text(0.5, 1.0, 'Subject 1 decoding')"
      ]
     },
     "execution_count": 25,
     "metadata": {},
     "output_type": "execute_result"
    },
    {
     "data": {
      "image/png": "[encoded data removed]",
      "text/plain": [
       "<Figure size 432x288 with 1 Axes>"
      ]
     },
     "metadata": {
      "needs_background": "light"
     },
     "output_type": "display_data"
    }
   ],
   "source": [
    "x_axis = np.arange(4)\n",
    "plt.figure()\n",
    "w = 0.2\n",
    "plt.bar(x_axis +w*1,score_dic_d.values() , width=w, label = '2v2')\n",
    "plt.bar(x_axis +w*2,score_dic_d_p.values() , width=w, label = 'pc')\n",
    "plt.xticks(x_axis,score_dic_d.keys())\n",
    "plt.xticks(rotation=45)\n",
    "plt.legend(bbox_to_anchor=(1.01,0), loc=\"lower left\", borderaxespad=0)\n",
    "plt.xlabel('kpi')\n",
    "plt.ylabel('value')\n",
    "plt.title('Subject 1 decoding')"
   ]
  },
  {
   "cell_type": "code",
   "execution_count": 29,
   "metadata": {},
   "outputs": [
    {
     "data": {
      "text/plain": [
       "Text(0.5, 1.0, 'Subject 1 encoding')"
      ]
     },
     "execution_count": 29,
     "metadata": {},
     "output_type": "execute_result"
    },
    {
     "data": {
      "image/png": "[encoded data removed]",
      "text/plain": [
       "<Figure size 432x288 with 1 Axes>"
      ]
     },
     "metadata": {
      "needs_background": "light"
     },
     "output_type": "display_data"
    }
   ],
   "source": [
    "x_axis = np.arange(4)\n",
    "plt.figure()\n",
    "w = 0.2\n",
    "plt.bar(x_axis +w*1,score_dic_e.values() , width=w, label = '2v2')\n",
    "plt.bar(x_axis +w*2,score_dic_e_p.values() , width=w, label = 'pc')\n",
    "plt.xticks(x_axis,score_dic_e.keys())\n",
    "plt.xticks(rotation=45)\n",
    "plt.legend(bbox_to_anchor=(1.01,0), loc=\"lower left\", borderaxespad=0)\n",
    "plt.xlabel('kpi')\n",
    "plt.ylabel('value')\n",
    "plt.title('Subject 1 encoding')"
   ]
  },
  {
   "cell_type": "code",
   "execution_count": 30,
   "metadata": {},
   "outputs": [
    {
     "data": {
      "text/plain": [
       "Text(0.5, 1.0, 'Subject 2 decoding')"
      ]
     },
     "execution_count": 30,
     "metadata": {},
     "output_type": "execute_result"
    },
    {
     "data": {
      "image/png": "[encoded data removed]",
      "text/plain": [
       "<Figure size 432x288 with 1 Axes>"
      ]
     },
     "metadata": {
      "needs_background": "light"
     },
     "output_type": "display_data"
    }
   ],
   "source": [
    "x_axis = np.arange(4)\n",
    "plt.figure()\n",
    "w = 0.2\n",
    "plt.bar(x_axis +w*1,score_dic_d2.values() , width=w, label = '2v2')\n",
    "plt.bar(x_axis +w*2,score_dic_d2_p.values() , width=w, label = 'pc')\n",
    "plt.xticks(x_axis,score_dic_d.keys())\n",
    "plt.xticks(rotation=45)\n",
    "plt.legend(bbox_to_anchor=(1.01,0), loc=\"lower left\", borderaxespad=0)\n",
    "plt.xlabel('kpi')\n",
    "plt.ylabel('value')\n",
    "plt.title('Subject 2 decoding')"
   ]
  },
  {
   "cell_type": "code",
   "execution_count": 32,
   "metadata": {},
   "outputs": [
    {
     "data": {
      "text/plain": [
       "Text(0.5, 1.0, 'Subject 2 encoding')"
      ]
     },
     "execution_count": 32,
     "metadata": {},
     "output_type": "execute_result"
    },
    {
     "data": {
      "image/png": "[encoded data removed]",
      "text/plain": [
       "<Figure size 432x288 with 1 Axes>"
      ]
     },
     "metadata": {
      "needs_background": "light"
     },
     "output_type": "display_data"
    }
   ],
   "source": [
    "x_axis = np.arange(4)\n",
    "plt.figure()\n",
    "w = 0.2\n",
    "plt.bar(x_axis +w*1,score_dic_e2.values() , width=w, label = '2v2')\n",
    "plt.bar(x_axis +w*2,score_dic_e2_p.values() , width=w, label = 'pc')\n",
    "plt.xticks(x_axis,score_dic_e.keys())\n",
    "plt.xticks(rotation=45)\n",
    "plt.legend(bbox_to_anchor=(1.01,0), loc=\"lower left\", borderaxespad=0)\n",
    "plt.xlabel('kpi')\n",
    "plt.ylabel('value')\n",
    "plt.title('Subject 2 encoding')"
   ]
  }
 ],
 "metadata": {
  "accelerator": "GPU",
  "colab": {
   "collapsed_sections": [],
   "name": "2020201051.ipynb",
   "provenance": []
  },
  "interpreter": {
   "hash": "8e618483b1897e9892eaba45220426590fb36a2b50a623d5c2020690cf6eee25"
  },
  "kernelspec": {
   "display_name": "Python 3 (ipykernel)",
   "language": "python",
   "name": "python3"
  },
  "language_info": {
   "codemirror_mode": {
    "name": "ipython",
    "version": 3
   },
   "file_extension": ".py",
   "mimetype": "text/x-python",
   "name": "python",
   "nbconvert_exporter": "python",
   "pygments_lexer": "ipython3",
   "version": "3.7.10"
  }
 },
 "nbformat": 4,
 "nbformat_minor": 1
}
