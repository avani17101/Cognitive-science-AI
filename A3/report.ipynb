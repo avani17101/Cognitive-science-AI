{
 "cells": [
  {
   "cell_type": "markdown",
   "metadata": {},
   "source": [
    "## Report Assignment 3\n",
    "- Name: Avani Gupta\n",
    "- Roll No: 2019121004"
   ]
  },
  {
   "cell_type": "markdown",
   "metadata": {},
   "source": [
    "## Brain encoder\n",
    "\n",
    "![Subject_1 encoding](plots/sub1_e.png)\n",
    "![Subject_2 encoding](plots/sub2_e.png)\n",
    "\n",
    "## Brain decoder\n",
    "\n",
    "![Subject_1 decoding](plots/sub1_d.png)\n",
    "![Subject_2 decoding](plots/sub2_d.png)\n",
    "\n",
    "Observations:\n",
    "* Language and vision have better results than dmn and task in encoding\n",
    "\n",
    "*  2v2(encoding) slightly greatter than 2v2(decoding) for all ROI's\n",
    "\n",
    "* pc(encoding) << pc(decoding) for language and vision and is comparable for dmn and taks\n",
    "\n",
    "    In encoding more variance across ROI's is observed in pc compared to 2v2\n",
    " \n",
    "    \n",
    "* All regions contribute nearly equally to processing of stimuli <br>\n",
    "In Decoding, all ROI's have comparable metrics, which means all regions contribute nearly equally to stimuli.\n"
   ]
  }
 ],
 "metadata": {
  "interpreter": {
   "hash": "8e618483b1897e9892eaba45220426590fb36a2b50a623d5c2020690cf6eee25"
  },
  "kernelspec": {
   "display_name": "Python 3 (ipykernel)",
   "language": "python",
   "name": "python3"
  },
  "language_info": {
   "codemirror_mode": {
    "name": "ipython",
    "version": 3
   },
   "file_extension": ".py",
   "mimetype": "text/x-python",
   "name": "python",
   "nbconvert_exporter": "python",
   "pygments_lexer": "ipython3",
   "version": "3.7.10"
  }
 },
 "nbformat": 4,
 "nbformat_minor": 2
}
